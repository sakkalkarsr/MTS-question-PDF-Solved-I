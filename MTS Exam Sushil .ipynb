{
 "cells": [
  {
   "cell_type": "code",
   "execution_count": 8,
   "id": "19f2b29a",
   "metadata": {},
   "outputs": [
    {
     "name": "stdout",
     "output_type": "stream",
     "text": [
      "5.0\n"
     ]
    }
   ],
   "source": [
    "x=8\n",
    "y=10\n",
    "result = x//3*3/2+y%2**2\n",
    "print(result)"
   ]
  },
  {
   "cell_type": "code",
   "execution_count": 9,
   "id": "fa22a239",
   "metadata": {},
   "outputs": [
    {
     "data": {
      "text/plain": [
       "2.6666666666666665"
      ]
     },
     "execution_count": 9,
     "metadata": {},
     "output_type": "execute_result"
    }
   ],
   "source": [
    "8/3"
   ]
  },
  {
   "cell_type": "code",
   "execution_count": 10,
   "id": "1cc0c112",
   "metadata": {},
   "outputs": [
    {
     "data": {
      "text/plain": [
       "1.5"
      ]
     },
     "execution_count": 10,
     "metadata": {},
     "output_type": "execute_result"
    }
   ],
   "source": [
    "3/2"
   ]
  },
  {
   "cell_type": "code",
   "execution_count": 16,
   "id": "70435b2d",
   "metadata": {},
   "outputs": [
    {
     "name": "stdout",
     "output_type": "stream",
     "text": [
      "How old were you at the time of joining?18\n",
      "How old are you today35\n",
      "Congratulations on 17Years of service!\n"
     ]
    }
   ],
   "source": [
    "start=input('How old were you at the time of joining?')\n",
    "end=input('How old are you today')\n",
    "print('Congratulations on '+ str(int(end)-int(start))+'Years of service!')"
   ]
  },
  {
   "cell_type": "code",
   "execution_count": 14,
   "id": "1317a1cf",
   "metadata": {},
   "outputs": [
    {
     "name": "stdout",
     "output_type": "stream",
     "text": [
      "Congratulations on11Year of service!\n"
     ]
    }
   ],
   "source": [
    "print('Congratulations on'+ str(int(end)-int(start))+'Year of service!')"
   ]
  },
  {
   "cell_type": "code",
   "execution_count": 2,
   "id": "3fa87cba",
   "metadata": {},
   "outputs": [],
   "source": [
    "# 3 Consider the code:\n",
    "x='ACROTE'\n",
    "y='APPLE'\n",
    "z='TOMATO'\n",
    "# Which of the following won't print 'CAT'"
   ]
  },
  {
   "cell_type": "code",
   "execution_count": 3,
   "id": "69514801",
   "metadata": {},
   "outputs": [
    {
     "name": "stdout",
     "output_type": "stream",
     "text": [
      "RPO\n"
     ]
    }
   ],
   "source": [
    "print(x[2]+y[1]+z[1]) # Correct"
   ]
  },
  {
   "cell_type": "code",
   "execution_count": 4,
   "id": "fb5b8bed",
   "metadata": {},
   "outputs": [
    {
     "name": "stdout",
     "output_type": "stream",
     "text": [
      "CAT\n"
     ]
    }
   ],
   "source": [
    "print(x[-5]+y[0]+z[-2])"
   ]
  },
  {
   "cell_type": "code",
   "execution_count": 5,
   "id": "fe15b723",
   "metadata": {},
   "outputs": [
    {
     "name": "stdout",
     "output_type": "stream",
     "text": [
      "CAT\n"
     ]
    }
   ],
   "source": [
    "print(x[1]+y[0]+z[0])"
   ]
  },
  {
   "cell_type": "code",
   "execution_count": 6,
   "id": "308ad5b4",
   "metadata": {},
   "outputs": [
    {
     "name": "stdout",
     "output_type": "stream",
     "text": [
      "CAT\n"
     ]
    }
   ],
   "source": [
    "print(x[-5]+y[0]+z[0])"
   ]
  },
  {
   "cell_type": "code",
   "execution_count": 8,
   "id": "057d3571",
   "metadata": {},
   "outputs": [
    {
     "name": "stdout",
     "output_type": "stream",
     "text": [
      "False\n"
     ]
    }
   ],
   "source": [
    "# Consider the following code\n",
    "x= 'Durga'\n",
    "y= 'Durga'\n",
    "result= x<y\n",
    "print(result)\n",
    "# For which of the following condition True will be printed to the console?"
   ]
  },
  {
   "cell_type": "code",
   "execution_count": 9,
   "id": "f668901e",
   "metadata": {},
   "outputs": [
    {
     "name": "stdout",
     "output_type": "stream",
     "text": [
      "False\n"
     ]
    }
   ],
   "source": [
    "result= x!=y\n",
    "print(result)"
   ]
  },
  {
   "cell_type": "code",
   "execution_count": 10,
   "id": "2f8f671b",
   "metadata": {},
   "outputs": [
    {
     "name": "stdout",
     "output_type": "stream",
     "text": [
      "False\n"
     ]
    }
   ],
   "source": [
    "result= x is not y\n",
    "print(result)"
   ]
  },
  {
   "cell_type": "code",
   "execution_count": 11,
   "id": "28e23644",
   "metadata": {},
   "outputs": [
    {
     "name": "stdout",
     "output_type": "stream",
     "text": [
      "True\n"
     ]
    }
   ],
   "source": [
    "result= x is y\n",
    "print(result) # correct condition"
   ]
  },
  {
   "cell_type": "code",
   "execution_count": 12,
   "id": "46fab39b",
   "metadata": {},
   "outputs": [],
   "source": [
    "# 5 Consider the following code segments:\n",
    "# Code Segment -1\n",
    "a1='10'\n",
    "b1=3\n",
    "c1=a1*b1"
   ]
  },
  {
   "cell_type": "code",
   "execution_count": 13,
   "id": "68fc106c",
   "metadata": {},
   "outputs": [
    {
     "data": {
      "text/plain": [
       "'101010'"
      ]
     },
     "execution_count": 13,
     "metadata": {},
     "output_type": "execute_result"
    }
   ],
   "source": [
    "c1"
   ]
  },
  {
   "cell_type": "code",
   "execution_count": 14,
   "id": "0b7478e0",
   "metadata": {},
   "outputs": [
    {
     "data": {
      "text/plain": [
       "str"
      ]
     },
     "execution_count": 14,
     "metadata": {},
     "output_type": "execute_result"
    }
   ],
   "source": [
    "type(c1)"
   ]
  },
  {
   "cell_type": "code",
   "execution_count": 15,
   "id": "6d7f2f20",
   "metadata": {},
   "outputs": [],
   "source": [
    "# Code Segment -2\n",
    "a2=10\n",
    "b2=3\n",
    "c2=a2/b2"
   ]
  },
  {
   "cell_type": "code",
   "execution_count": 16,
   "id": "7e79fb2c",
   "metadata": {},
   "outputs": [
    {
     "data": {
      "text/plain": [
       "3.3333333333333335"
      ]
     },
     "execution_count": 16,
     "metadata": {},
     "output_type": "execute_result"
    }
   ],
   "source": [
    "c2"
   ]
  },
  {
   "cell_type": "code",
   "execution_count": 17,
   "id": "22849783",
   "metadata": {},
   "outputs": [
    {
     "data": {
      "text/plain": [
       "float"
      ]
     },
     "execution_count": 17,
     "metadata": {},
     "output_type": "execute_result"
    }
   ],
   "source": [
    "type(c2)"
   ]
  },
  {
   "cell_type": "code",
   "execution_count": 18,
   "id": "51cae68a",
   "metadata": {},
   "outputs": [],
   "source": [
    "# Code Segment-3\n",
    "a3 = 2.6\n",
    "b3 = 1\n",
    "c3 = a3/b3"
   ]
  },
  {
   "cell_type": "code",
   "execution_count": 19,
   "id": "98e578a3",
   "metadata": {},
   "outputs": [
    {
     "data": {
      "text/plain": [
       "2.6"
      ]
     },
     "execution_count": 19,
     "metadata": {},
     "output_type": "execute_result"
    }
   ],
   "source": [
    "c3"
   ]
  },
  {
   "cell_type": "code",
   "execution_count": 20,
   "id": "8b98e915",
   "metadata": {},
   "outputs": [
    {
     "data": {
      "text/plain": [
       "float"
      ]
     },
     "execution_count": 20,
     "metadata": {},
     "output_type": "execute_result"
    }
   ],
   "source": [
    "type(c3)"
   ]
  },
  {
   "cell_type": "code",
   "execution_count": 21,
   "id": "a4766493",
   "metadata": {},
   "outputs": [
    {
     "data": {
      "text/plain": [
       "3"
      ]
     },
     "execution_count": 21,
     "metadata": {},
     "output_type": "execute_result"
    }
   ],
   "source": [
    "# 6 In which of the following cases we will get same result\n",
    "13//4"
   ]
  },
  {
   "cell_type": "code",
   "execution_count": 22,
   "id": "44383459",
   "metadata": {},
   "outputs": [
    {
     "data": {
      "text/plain": [
       "3.6666666666666665"
      ]
     },
     "execution_count": 22,
     "metadata": {},
     "output_type": "execute_result"
    }
   ],
   "source": [
    "11/3"
   ]
  },
  {
   "cell_type": "code",
   "execution_count": 23,
   "id": "d29f0f60",
   "metadata": {},
   "outputs": [
    {
     "data": {
      "text/plain": [
       "3"
      ]
     },
     "execution_count": 23,
     "metadata": {},
     "output_type": "execute_result"
    }
   ],
   "source": [
    "3**1"
   ]
  },
  {
   "cell_type": "code",
   "execution_count": 24,
   "id": "8b09cb15",
   "metadata": {},
   "outputs": [
    {
     "data": {
      "text/plain": [
       "3"
      ]
     },
     "execution_count": 24,
     "metadata": {},
     "output_type": "execute_result"
    }
   ],
   "source": [
    "23%5"
   ]
  },
  {
   "cell_type": "code",
   "execution_count": 25,
   "id": "5aa98ee9",
   "metadata": {},
   "outputs": [
    {
     "name": "stdout",
     "output_type": "stream",
     "text": [
      "False\n",
      "True\n"
     ]
    }
   ],
   "source": [
    "# 8 Consider the following lists:\n",
    "n1=[10,20,30,40,50]\n",
    "n2=[10,20,30,40,50]\n",
    "print(n1 is n2)\n",
    "print(n1 == n2)"
   ]
  },
  {
   "cell_type": "code",
   "execution_count": 27,
   "id": "20e7889d",
   "metadata": {},
   "outputs": [],
   "source": [
    "# 9 Consider the python code\n",
    "a=1\n",
    "b=2\n",
    "c=5\n",
    "d=7\n",
    "# In Which of the following cases the result value is 0?"
   ]
  },
  {
   "cell_type": "code",
   "execution_count": 29,
   "id": "49a2a603",
   "metadata": {},
   "outputs": [
    {
     "data": {
      "text/plain": [
       "1"
      ]
     },
     "execution_count": 29,
     "metadata": {},
     "output_type": "execute_result"
    }
   ],
   "source": [
    "a-b//d"
   ]
  },
  {
   "cell_type": "code",
   "execution_count": 30,
   "id": "ec92763f",
   "metadata": {},
   "outputs": [
    {
     "data": {
      "text/plain": [
       "0"
      ]
     },
     "execution_count": 30,
     "metadata": {},
     "output_type": "execute_result"
    }
   ],
   "source": [
    "a**d-1"
   ]
  },
  {
   "cell_type": "code",
   "execution_count": 31,
   "id": "d12e4433",
   "metadata": {},
   "outputs": [
    {
     "data": {
      "text/plain": [
       "5"
      ]
     },
     "execution_count": 31,
     "metadata": {},
     "output_type": "execute_result"
    }
   ],
   "source": [
    "a+b*2"
   ]
  },
  {
   "cell_type": "code",
   "execution_count": 32,
   "id": "fa030835",
   "metadata": {},
   "outputs": [
    {
     "data": {
      "text/plain": [
       "0"
      ]
     },
     "execution_count": 32,
     "metadata": {},
     "output_type": "execute_result"
    }
   ],
   "source": [
    "a%b-1"
   ]
  },
  {
   "cell_type": "code",
   "execution_count": 53,
   "id": "f7451899",
   "metadata": {},
   "outputs": [
    {
     "ename": "AttributeError",
     "evalue": "'str' object has no attribute 'append'",
     "output_type": "error",
     "traceback": [
      "\u001b[1;31m---------------------------------------------------------------------------\u001b[0m",
      "\u001b[1;31mAttributeError\u001b[0m                            Traceback (most recent call last)",
      "\u001b[1;32m~\\AppData\\Local\\Temp/ipykernel_9316/945690109.py\u001b[0m in \u001b[0;36m<module>\u001b[1;34m\u001b[0m\n\u001b[0;32m      2\u001b[0m \u001b[0ms\u001b[0m\u001b[1;33m=\u001b[0m\u001b[1;34m'AB CD'\u001b[0m\u001b[1;33m\u001b[0m\u001b[1;33m\u001b[0m\u001b[0m\n\u001b[0;32m      3\u001b[0m \u001b[0mlist\u001b[0m\u001b[1;33m=\u001b[0m\u001b[0ms\u001b[0m\u001b[1;33m\u001b[0m\u001b[1;33m\u001b[0m\u001b[0m\n\u001b[1;32m----> 4\u001b[1;33m \u001b[0mlist\u001b[0m\u001b[1;33m.\u001b[0m\u001b[0mappend\u001b[0m\u001b[1;33m(\u001b[0m\u001b[1;34m'EF'\u001b[0m\u001b[1;33m)\u001b[0m\u001b[1;33m\u001b[0m\u001b[1;33m\u001b[0m\u001b[0m\n\u001b[0m\u001b[0;32m      5\u001b[0m \u001b[0mprint\u001b[0m\u001b[1;33m(\u001b[0m\u001b[1;34m'list'\u001b[0m\u001b[1;33m)\u001b[0m\u001b[1;33m\u001b[0m\u001b[1;33m\u001b[0m\u001b[0m\n\u001b[0;32m      6\u001b[0m \u001b[1;31m# what is the result?\u001b[0m\u001b[1;33m\u001b[0m\u001b[1;33m\u001b[0m\u001b[0m\n",
      "\u001b[1;31mAttributeError\u001b[0m: 'str' object has no attribute 'append'"
     ]
    }
   ],
   "source": [
    "# 10 Consider the code\n",
    "s='AB CD'\n",
    "list=s\n",
    "list.append('EF')\n",
    "print('list')\n",
    "# what is the result?"
   ]
  },
  {
   "cell_type": "code",
   "execution_count": 46,
   "id": "185ecff1",
   "metadata": {},
   "outputs": [],
   "source": [
    "s=('AB CD')"
   ]
  },
  {
   "cell_type": "code",
   "execution_count": 47,
   "id": "3646826e",
   "metadata": {},
   "outputs": [
    {
     "ename": "TypeError",
     "evalue": "'str' object is not callable",
     "output_type": "error",
     "traceback": [
      "\u001b[1;31m---------------------------------------------------------------------------\u001b[0m",
      "\u001b[1;31mTypeError\u001b[0m                                 Traceback (most recent call last)",
      "\u001b[1;32m~\\AppData\\Local\\Temp/ipykernel_9316/591589608.py\u001b[0m in \u001b[0;36m<module>\u001b[1;34m\u001b[0m\n\u001b[1;32m----> 1\u001b[1;33m \u001b[0mlist\u001b[0m\u001b[1;33m=\u001b[0m\u001b[0mlist\u001b[0m\u001b[1;33m(\u001b[0m\u001b[0ms\u001b[0m\u001b[1;33m)\u001b[0m\u001b[1;33m\u001b[0m\u001b[1;33m\u001b[0m\u001b[0m\n\u001b[0m",
      "\u001b[1;31mTypeError\u001b[0m: 'str' object is not callable"
     ]
    }
   ],
   "source": [
    "list=list(s)"
   ]
  },
  {
   "cell_type": "code",
   "execution_count": 49,
   "id": "064261a0",
   "metadata": {},
   "outputs": [
    {
     "name": "stdout",
     "output_type": "stream",
     "text": [
      "valid\n"
     ]
    }
   ],
   "source": [
    " #11 Consider the Python code:\n",
    "a=5\n",
    "b=10\n",
    "c=2\n",
    "d=True\n",
    "\n",
    "x=a+b*c\n",
    "y=a+b/d\n",
    "if(x>y):\n",
    "    print('valid')\n",
    "else:\n",
    "    print('invalid')"
   ]
  },
  {
   "cell_type": "code",
   "execution_count": 1,
   "id": "b4b05be7",
   "metadata": {},
   "outputs": [
    {
     "name": "stdout",
     "output_type": "stream",
     "text": [
      "Enter First Number10\n",
      "Enter Second Number56\n",
      "The Result:66\n"
     ]
    }
   ],
   "source": [
    "#12 You are writing a python program to rad two int values from the keyboard and print the sum\n",
    "x=input('Enter First Number')\n",
    "y=input('Enter Second Number')\n",
    "print('The Result:'+str(int(x)+int(y)))"
   ]
  },
  {
   "cell_type": "code",
   "execution_count": 1,
   "id": "45146c7a",
   "metadata": {},
   "outputs": [
    {
     "ename": "IndentationError",
     "evalue": "unexpected indent (Temp/ipykernel_9448/3622057457.py, line 2)",
     "output_type": "error",
     "traceback": [
      "\u001b[1;36m  File \u001b[1;32m\"C:\\Users\\PDKV\\AppData\\Local\\Temp/ipykernel_9448/3622057457.py\"\u001b[1;36m, line \u001b[1;32m2\u001b[0m\n\u001b[1;33m    result=a-b*c+d\u001b[0m\n\u001b[1;37m    ^\u001b[0m\n\u001b[1;31mIndentationError\u001b[0m\u001b[1;31m:\u001b[0m unexpected indent\n"
     ]
    }
   ],
   "source": [
    "#13 Consider the expression:\n",
    "    result=a-b*c+d\n",
    "#First b*c will be evaluated followed by subtraction and addition"
   ]
  },
  {
   "cell_type": "code",
   "execution_count": 4,
   "id": "f3f70ebf",
   "metadata": {},
   "outputs": [],
   "source": [
    "#14 Consider the following python code:\n",
    "weight=62.4 # float\n",
    "zip='80098' # string\n",
    "value=+23E4 # float\n",
    "#The type of weight,zip & variable respectively"
   ]
  },
  {
   "cell_type": "code",
   "execution_count": 2,
   "id": "4cd02b0d",
   "metadata": {},
   "outputs": [],
   "source": [
    "value=+23E4"
   ]
  },
  {
   "cell_type": "code",
   "execution_count": 3,
   "id": "064a2851",
   "metadata": {},
   "outputs": [
    {
     "data": {
      "text/plain": [
       "float"
      ]
     },
     "execution_count": 3,
     "metadata": {},
     "output_type": "execute_result"
    }
   ],
   "source": [
    "type(value)"
   ]
  },
  {
   "cell_type": "code",
   "execution_count": 5,
   "id": "00812f3b",
   "metadata": {},
   "outputs": [
    {
     "data": {
      "text/plain": [
       "str"
      ]
     },
     "execution_count": 5,
     "metadata": {},
     "output_type": "execute_result"
    }
   ],
   "source": [
    "type(zip)"
   ]
  },
  {
   "cell_type": "code",
   "execution_count": 6,
   "id": "eef01952",
   "metadata": {},
   "outputs": [
    {
     "data": {
      "text/plain": [
       "float"
      ]
     },
     "execution_count": 6,
     "metadata": {},
     "output_type": "execute_result"
    }
   ],
   "source": [
    "type(weight)"
   ]
  },
  {
   "cell_type": "code",
   "execution_count": 11,
   "id": "bbd91bdf",
   "metadata": {},
   "outputs": [],
   "source": [
    "#15 Identify following data\n",
    "a=10+20 # int\n",
    "b= '10' + '30' # str\n",
    "c= '10'*3 #str"
   ]
  },
  {
   "cell_type": "code",
   "execution_count": 12,
   "id": "eea924ed",
   "metadata": {},
   "outputs": [
    {
     "data": {
      "text/plain": [
       "int"
      ]
     },
     "execution_count": 12,
     "metadata": {},
     "output_type": "execute_result"
    }
   ],
   "source": [
    "type(a)"
   ]
  },
  {
   "cell_type": "code",
   "execution_count": 13,
   "id": "28ab45d5",
   "metadata": {},
   "outputs": [
    {
     "data": {
      "text/plain": [
       "str"
      ]
     },
     "execution_count": 13,
     "metadata": {},
     "output_type": "execute_result"
    }
   ],
   "source": [
    "type(b)"
   ]
  },
  {
   "cell_type": "code",
   "execution_count": 14,
   "id": "4b7fceab",
   "metadata": {},
   "outputs": [
    {
     "data": {
      "text/plain": [
       "str"
      ]
     },
     "execution_count": 14,
     "metadata": {},
     "output_type": "execute_result"
    }
   ],
   "source": [
    "type(c)"
   ]
  },
  {
   "cell_type": "code",
   "execution_count": 16,
   "id": "23dba0b3",
   "metadata": {},
   "outputs": [],
   "source": [
    "# 16 You have the following code:\n",
    "a=bool([False])\n",
    "b=bool(3)\n",
    "c=bool(\"\") # False\n",
    "d=bool(' ')\n",
    "# Which of the variables will represent False:\n",
    "# For Empty String, Empty List, Empty tuple,Empty set, Empty dict and range (0)"
   ]
  },
  {
   "cell_type": "code",
   "execution_count": 18,
   "id": "4abee735",
   "metadata": {},
   "outputs": [],
   "source": [
    "a=bool([False])"
   ]
  },
  {
   "cell_type": "code",
   "execution_count": 19,
   "id": "1a560cb8",
   "metadata": {},
   "outputs": [
    {
     "data": {
      "text/plain": [
       "True"
      ]
     },
     "execution_count": 19,
     "metadata": {},
     "output_type": "execute_result"
    }
   ],
   "source": [
    "a"
   ]
  },
  {
   "cell_type": "code",
   "execution_count": 20,
   "id": "e1e57533",
   "metadata": {},
   "outputs": [
    {
     "data": {
      "text/plain": [
       "True"
      ]
     },
     "execution_count": 20,
     "metadata": {},
     "output_type": "execute_result"
    }
   ],
   "source": [
    "b"
   ]
  },
  {
   "cell_type": "code",
   "execution_count": 21,
   "id": "9b9f9469",
   "metadata": {},
   "outputs": [
    {
     "data": {
      "text/plain": [
       "False"
      ]
     },
     "execution_count": 21,
     "metadata": {},
     "output_type": "execute_result"
    }
   ],
   "source": [
    "c"
   ]
  },
  {
   "cell_type": "code",
   "execution_count": 22,
   "id": "b9fcedc8",
   "metadata": {},
   "outputs": [
    {
     "data": {
      "text/plain": [
       "True"
      ]
     },
     "execution_count": 22,
     "metadata": {},
     "output_type": "execute_result"
    }
   ],
   "source": [
    "d"
   ]
  },
  {
   "cell_type": "code",
   "execution_count": 23,
   "id": "68d0ec17",
   "metadata": {},
   "outputs": [],
   "source": [
    "# 17 Consider the following expression\n",
    "result=(2*(3+4)**2-(3**3)*3)"
   ]
  },
  {
   "cell_type": "code",
   "execution_count": 24,
   "id": "79231548",
   "metadata": {},
   "outputs": [
    {
     "data": {
      "text/plain": [
       "17"
      ]
     },
     "execution_count": 24,
     "metadata": {},
     "output_type": "execute_result"
    }
   ],
   "source": [
    "result"
   ]
  },
  {
   "cell_type": "code",
   "execution_count": 27,
   "id": "77d8e65e",
   "metadata": {},
   "outputs": [],
   "source": [
    "# 18 Consider the code\n",
    "a=2\n",
    "a +=1\n",
    "a**=2"
   ]
  },
  {
   "cell_type": "code",
   "execution_count": 28,
   "id": "473fc4d6",
   "metadata": {},
   "outputs": [
    {
     "data": {
      "text/plain": [
       "9"
      ]
     },
     "execution_count": 28,
     "metadata": {},
     "output_type": "execute_result"
    }
   ],
   "source": [
    "a"
   ]
  },
  {
   "cell_type": "code",
   "execution_count": 30,
   "id": "c36c87d5",
   "metadata": {},
   "outputs": [],
   "source": [
    "a=bool(0) #False\n",
    "b=bool(3) #True\n",
    "c=bool(0.5) # True\n",
    "d=bool(0.0) # False\n",
    "# Which variable represent True?"
   ]
  },
  {
   "cell_type": "code",
   "execution_count": 31,
   "id": "a00c25d1",
   "metadata": {},
   "outputs": [
    {
     "data": {
      "text/plain": [
       "False"
      ]
     },
     "execution_count": 31,
     "metadata": {},
     "output_type": "execute_result"
    }
   ],
   "source": [
    "a"
   ]
  },
  {
   "cell_type": "code",
   "execution_count": 32,
   "id": "ff5ed043",
   "metadata": {},
   "outputs": [
    {
     "data": {
      "text/plain": [
       "True"
      ]
     },
     "execution_count": 32,
     "metadata": {},
     "output_type": "execute_result"
    }
   ],
   "source": [
    "b"
   ]
  },
  {
   "cell_type": "code",
   "execution_count": 33,
   "id": "8461e135",
   "metadata": {},
   "outputs": [
    {
     "data": {
      "text/plain": [
       "True"
      ]
     },
     "execution_count": 33,
     "metadata": {},
     "output_type": "execute_result"
    }
   ],
   "source": [
    "c"
   ]
  },
  {
   "cell_type": "code",
   "execution_count": 34,
   "id": "06729948",
   "metadata": {},
   "outputs": [
    {
     "data": {
      "text/plain": [
       "False"
      ]
     },
     "execution_count": 34,
     "metadata": {},
     "output_type": "execute_result"
    }
   ],
   "source": [
    "d"
   ]
  },
  {
   "cell_type": "code",
   "execution_count": 36,
   "id": "68ca197c",
   "metadata": {},
   "outputs": [
    {
     "name": "stdout",
     "output_type": "stream",
     "text": [
      "3.5\n",
      "3\n",
      "3\n"
     ]
    }
   ],
   "source": [
    "# 20 Consider the code\n",
    "a=21\n",
    "b=6\n",
    "print(a/b) # 3.5\n",
    "print(a//b)# 3\n",
    "print(a%b) # 3"
   ]
  },
  {
   "cell_type": "code",
   "execution_count": 35,
   "id": "c87ecd4c",
   "metadata": {},
   "outputs": [
    {
     "name": "stdout",
     "output_type": "stream",
     "text": [
      "0.0\n"
     ]
    }
   ],
   "source": [
    "# 21 You are development a python application for your company.\n",
    "employees[-3:] # the last 3 being company management\n",
    "employees[497:] \n",
    "All the above (correct)\n",
    "employees[497:500]"
   ]
  },
  {
   "cell_type": "code",
   "execution_count": 9,
   "id": "84ba75f8",
   "metadata": {},
   "outputs": [],
   "source": [
    "#22\n",
    "subjects=['java','python','sap']\n",
    "more_subjects=['Java','python','sap']\n",
    "extra_subjects=more_subjects\n"
   ]
  },
  {
   "cell_type": "code",
   "execution_count": 10,
   "id": "b202ec10",
   "metadata": {},
   "outputs": [
    {
     "name": "stdout",
     "output_type": "stream",
     "text": [
      "True\n"
     ]
    }
   ],
   "source": [
    "print(extra_subjects is more_subjects)"
   ]
  },
  {
   "cell_type": "code",
   "execution_count": 11,
   "id": "dbec2023",
   "metadata": {},
   "outputs": [
    {
     "name": "stdout",
     "output_type": "stream",
     "text": [
      "False\n"
     ]
    }
   ],
   "source": [
    "print(subjects is more_subjects)"
   ]
  },
  {
   "cell_type": "code",
   "execution_count": 15,
   "id": "f7dc6e48",
   "metadata": {},
   "outputs": [
    {
     "name": "stdout",
     "output_type": "stream",
     "text": [
      "False\n"
     ]
    }
   ],
   "source": [
    "print(subjects==extra_subjects)"
   ]
  },
  {
   "cell_type": "code",
   "execution_count": 13,
   "id": "d1e17612",
   "metadata": {},
   "outputs": [
    {
     "name": "stdout",
     "output_type": "stream",
     "text": [
      "False\n"
     ]
    }
   ],
   "source": [
    "print(subjects is extra_subjects)"
   ]
  },
  {
   "cell_type": "code",
   "execution_count": null,
   "id": "f1dcc6a5",
   "metadata": {},
   "outputs": [],
   "source": [
    "#23 # In which cases we will get IndexError while accessing employee data?\n",
    "# slice operator never raises IndexError"
   ]
  },
  {
   "cell_type": "code",
   "execution_count": 17,
   "id": "5db8b355",
   "metadata": {},
   "outputs": [],
   "source": [
    "# Consider the list\n",
    "numbers=[10,20,30,40,50]\n",
    "alphabets=['a','b','c','d','e']"
   ]
  },
  {
   "cell_type": "code",
   "execution_count": 18,
   "id": "24a20caf",
   "metadata": {},
   "outputs": [
    {
     "name": "stdout",
     "output_type": "stream",
     "text": [
      "False\n"
     ]
    }
   ],
   "source": [
    "print(numbers is alphabets)"
   ]
  },
  {
   "cell_type": "code",
   "execution_count": 19,
   "id": "3384ece0",
   "metadata": {},
   "outputs": [
    {
     "name": "stdout",
     "output_type": "stream",
     "text": [
      "False\n"
     ]
    }
   ],
   "source": [
    "print(numbers==alphabets)"
   ]
  },
  {
   "cell_type": "code",
   "execution_count": 20,
   "id": "0d087c2e",
   "metadata": {},
   "outputs": [],
   "source": [
    "numbers=alphabets"
   ]
  },
  {
   "cell_type": "code",
   "execution_count": 21,
   "id": "27bc95b1",
   "metadata": {},
   "outputs": [
    {
     "name": "stdout",
     "output_type": "stream",
     "text": [
      "True\n"
     ]
    }
   ],
   "source": [
    "print(numbers is alphabets)"
   ]
  },
  {
   "cell_type": "code",
   "execution_count": 22,
   "id": "2784e504",
   "metadata": {},
   "outputs": [
    {
     "name": "stdout",
     "output_type": "stream",
     "text": [
      "True\n"
     ]
    }
   ],
   "source": [
    "print(numbers==alphabets)"
   ]
  },
  {
   "cell_type": "code",
   "execution_count": 23,
   "id": "7af61b45",
   "metadata": {},
   "outputs": [],
   "source": [
    "#25 consider the following python code:\n",
    "age=0 # int\n",
    "minor=False # bool\n",
    "name='Durga' # str\n",
    "# The types of above vaiable "
   ]
  },
  {
   "cell_type": "code",
   "execution_count": 24,
   "id": "abca033b",
   "metadata": {},
   "outputs": [
    {
     "data": {
      "text/plain": [
       "8"
      ]
     },
     "execution_count": 24,
     "metadata": {},
     "output_type": "execute_result"
    }
   ],
   "source": [
    "#26 Which of the following will generate max value?\n",
    "8//3*4 # 8"
   ]
  },
  {
   "cell_type": "code",
   "execution_count": 26,
   "id": "38329e30",
   "metadata": {},
   "outputs": [
    {
     "data": {
      "text/plain": [
       "8"
      ]
     },
     "execution_count": 26,
     "metadata": {},
     "output_type": "execute_result"
    }
   ],
   "source": [
    "8%3*4 #8 % mod operator = 2*4 # reminder"
   ]
  },
  {
   "cell_type": "code",
   "execution_count": 33,
   "id": "8ea9853b",
   "metadata": {},
   "outputs": [
    {
     "data": {
      "text/plain": [
       "10.666666666666666"
      ]
     },
     "execution_count": 33,
     "metadata": {},
     "output_type": "execute_result"
    }
   ],
   "source": [
    "8/3*4 # 2. "
   ]
  },
  {
   "cell_type": "code",
   "execution_count": 34,
   "id": "0c93f178",
   "metadata": {},
   "outputs": [
    {
     "data": {
      "text/plain": [
       "-4"
      ]
     },
     "execution_count": 34,
     "metadata": {},
     "output_type": "execute_result"
    }
   ],
   "source": [
    "8-3*4"
   ]
  },
  {
   "cell_type": "code",
   "execution_count": 35,
   "id": "e6a21ccd",
   "metadata": {},
   "outputs": [
    {
     "name": "stdout",
     "output_type": "stream",
     "text": [
      "2\n"
     ]
    }
   ],
   "source": [
    "#27 Consider the code:\n",
    "s='Python is easy'\n",
    "s1=s[6:-4]\n",
    "s2=s1.strip()\n",
    "print(len(s2))\n",
    "# strip() = It will remove spaceas present at left and right sides of the string\n",
    "# lstrip()= remove left side of the string\n",
    "# rstrip()= remove Right side of the string"
   ]
  },
  {
   "cell_type": "code",
   "execution_count": 37,
   "id": "4d32f72c",
   "metadata": {},
   "outputs": [],
   "source": [
    "# 29 Consider the list:\n",
    "list=['Apple','Banana','Carrot','Mango']\n",
    "# Which of the following are valid ways of accessing 'Mango':"
   ]
  },
  {
   "cell_type": "code",
   "execution_count": 38,
   "id": "b736f031",
   "metadata": {},
   "outputs": [
    {
     "data": {
      "text/plain": [
       "'Apple'"
      ]
     },
     "execution_count": 38,
     "metadata": {},
     "output_type": "execute_result"
    }
   ],
   "source": [
    "list[0]"
   ]
  },
  {
   "cell_type": "code",
   "execution_count": 39,
   "id": "f62b9cc2",
   "metadata": {},
   "outputs": [
    {
     "data": {
      "text/plain": [
       "'Mango'"
      ]
     },
     "execution_count": 39,
     "metadata": {},
     "output_type": "execute_result"
    }
   ],
   "source": [
    "list[-1]"
   ]
  },
  {
   "cell_type": "code",
   "execution_count": 40,
   "id": "5bf37e31",
   "metadata": {},
   "outputs": [
    {
     "data": {
      "text/plain": [
       "'Mango'"
      ]
     },
     "execution_count": 40,
     "metadata": {},
     "output_type": "execute_result"
    }
   ],
   "source": [
    "list[3]"
   ]
  },
  {
   "cell_type": "code",
   "execution_count": 41,
   "id": "8bf6a579",
   "metadata": {},
   "outputs": [
    {
     "ename": "IndexError",
     "evalue": "list index out of range",
     "output_type": "error",
     "traceback": [
      "\u001b[1;31m---------------------------------------------------------------------------\u001b[0m",
      "\u001b[1;31mIndexError\u001b[0m                                Traceback (most recent call last)",
      "\u001b[1;32m~\\AppData\\Local\\Temp/ipykernel_12540/830763790.py\u001b[0m in \u001b[0;36m<module>\u001b[1;34m\u001b[0m\n\u001b[1;32m----> 1\u001b[1;33m \u001b[0mlist\u001b[0m\u001b[1;33m[\u001b[0m\u001b[1;36m4\u001b[0m\u001b[1;33m]\u001b[0m\u001b[1;33m\u001b[0m\u001b[1;33m\u001b[0m\u001b[0m\n\u001b[0m",
      "\u001b[1;31mIndexError\u001b[0m: list index out of range"
     ]
    }
   ],
   "source": [
    "list[4]"
   ]
  },
  {
   "cell_type": "code",
   "execution_count": 42,
   "id": "891d21f3",
   "metadata": {},
   "outputs": [
    {
     "ename": "NameError",
     "evalue": "name 'Boy' is not defined",
     "output_type": "error",
     "traceback": [
      "\u001b[1;31m---------------------------------------------------------------------------\u001b[0m",
      "\u001b[1;31mNameError\u001b[0m                                 Traceback (most recent call last)",
      "\u001b[1;32m~\\AppData\\Local\\Temp/ipykernel_12540/774523029.py\u001b[0m in \u001b[0;36m<module>\u001b[1;34m\u001b[0m\n\u001b[0;32m      1\u001b[0m \u001b[1;31m# Which of the following code snippet will produce the output:\u001b[0m\u001b[1;33m\u001b[0m\u001b[1;33m\u001b[0m\u001b[0m\n\u001b[1;32m----> 2\u001b[1;33m \u001b[0mBoy\u001b[0m\u001b[1;33m\u001b[0m\u001b[1;33m\u001b[0m\u001b[0m\n\u001b[0m\u001b[0;32m      3\u001b[0m \u001b[0mCat\u001b[0m\u001b[1;33m\u001b[0m\u001b[1;33m\u001b[0m\u001b[0m\n\u001b[0;32m      4\u001b[0m \u001b[0mDog\u001b[0m\u001b[1;33m\u001b[0m\u001b[1;33m\u001b[0m\u001b[0m\n",
      "\u001b[1;31mNameError\u001b[0m: name 'Boy' is not defined"
     ]
    }
   ],
   "source": [
    "# Which of the following code snippet will produce the output:\n",
    "Boy\n",
    "Cat\n",
    "Dog"
   ]
  },
  {
   "cell_type": "code",
   "execution_count": 45,
   "id": "fe293653",
   "metadata": {},
   "outputs": [
    {
     "name": "stdout",
     "output_type": "stream",
     "text": [
      "Boy\n",
      "Cat\n",
      "Dog\n"
     ]
    }
   ],
   "source": [
    "l=['Apple','Boy','Cat','Dog']\n",
    "for x in l:\n",
    "    if len(x)==3:\n",
    "        print(x)"
   ]
  },
  {
   "cell_type": "code",
   "execution_count": 46,
   "id": "14edd5a4",
   "metadata": {},
   "outputs": [
    {
     "name": "stdout",
     "output_type": "stream",
     "text": [
      "Boy\n",
      "Cat\n",
      "Dog\n"
     ]
    }
   ],
   "source": [
    "l=['Apple','Boy','Cat','Dog']\n",
    "l1=l[1:]\n",
    "for x in l1:\n",
    "        print(x)"
   ]
  },
  {
   "cell_type": "code",
   "execution_count": 47,
   "id": "f93e0890",
   "metadata": {},
   "outputs": [
    {
     "name": "stdout",
     "output_type": "stream",
     "text": [
      "Apple\n",
      "Boy\n",
      "Cat\n",
      "Dog\n"
     ]
    }
   ],
   "source": [
    "l=['Apple','Boy','Cat','Dog']\n",
    "for x in l:\n",
    "        print(x)"
   ]
  },
  {
   "cell_type": "code",
   "execution_count": 9,
   "id": "42ca5a86",
   "metadata": {},
   "outputs": [
    {
     "name": "stdout",
     "output_type": "stream",
     "text": [
      "Apple\n"
     ]
    }
   ],
   "source": [
    "l=['Apple','Cat','Boy','Dog']\n",
    "for x in l:\n",
    "    if len(x)!=3:\n",
    "        print(x)"
   ]
  },
  {
   "cell_type": "code",
   "execution_count": 10,
   "id": "0525bc9b",
   "metadata": {},
   "outputs": [
    {
     "name": "stdout",
     "output_type": "stream",
     "text": [
      "3.0\n"
     ]
    }
   ],
   "source": [
    "#31 Consider the code\n",
    "a=15\n",
    "b=5\n",
    "print(a/b) # 3.0\n",
    "# What is the result?\n",
    "/ always meant for floating point arithmatic"
   ]
  },
  {
   "cell_type": "code",
   "execution_count": 11,
   "id": "4b10c092",
   "metadata": {},
   "outputs": [],
   "source": [
    "# Consider the code\n",
    "a=1\n",
    "b=2\n",
    "c=4\n",
    "d=6\n",
    "# Which of the following expression results -4?"
   ]
  },
  {
   "cell_type": "code",
   "execution_count": 13,
   "id": "f91778d2",
   "metadata": {},
   "outputs": [
    {
     "data": {
      "text/plain": [
       "0"
      ]
     },
     "execution_count": 13,
     "metadata": {},
     "output_type": "execute_result"
    }
   ],
   "source": [
    "(a+b)//c*d"
   ]
  },
  {
   "cell_type": "code",
   "execution_count": 14,
   "id": "8a690d56",
   "metadata": {},
   "outputs": [
    {
     "data": {
      "text/plain": [
       "0"
      ]
     },
     "execution_count": 14,
     "metadata": {},
     "output_type": "execute_result"
    }
   ],
   "source": [
    "(b+c)//a%d"
   ]
  },
  {
   "cell_type": "code",
   "execution_count": 15,
   "id": "c802861f",
   "metadata": {},
   "outputs": [
    {
     "data": {
      "text/plain": [
       "0"
      ]
     },
     "execution_count": 15,
     "metadata": {},
     "output_type": "execute_result"
    }
   ],
   "source": [
    "(a+b)//c%d"
   ]
  },
  {
   "cell_type": "code",
   "execution_count": 16,
   "id": "556b6e84",
   "metadata": {},
   "outputs": [
    {
     "data": {
      "text/plain": [
       "-4"
      ]
     },
     "execution_count": 16,
     "metadata": {},
     "output_type": "execute_result"
    }
   ],
   "source": [
    "(a+b)//d-c"
   ]
  },
  {
   "cell_type": "code",
   "execution_count": 17,
   "id": "6e07e496",
   "metadata": {},
   "outputs": [
    {
     "name": "stdout",
     "output_type": "stream",
     "text": [
      "is easyeasy\n"
     ]
    }
   ],
   "source": [
    "#Consider the code\n",
    "s='Python is easy'\n",
    "s1=s[-7:]\n",
    "s2=s[-4:]\n",
    "print(s1+s2)"
   ]
  },
  {
   "cell_type": "code",
   "execution_count": 18,
   "id": "d98784d7",
   "metadata": {},
   "outputs": [
    {
     "data": {
      "text/plain": [
       "'is easy'"
      ]
     },
     "execution_count": 18,
     "metadata": {},
     "output_type": "execute_result"
    }
   ],
   "source": [
    "s1"
   ]
  },
  {
   "cell_type": "code",
   "execution_count": 19,
   "id": "59a4dd2f",
   "metadata": {},
   "outputs": [
    {
     "data": {
      "text/plain": [
       "'easy'"
      ]
     },
     "execution_count": 19,
     "metadata": {},
     "output_type": "execute_result"
    }
   ],
   "source": [
    "s2"
   ]
  },
  {
   "cell_type": "code",
   "execution_count": 20,
   "id": "f22bca5a",
   "metadata": {},
   "outputs": [],
   "source": [
    "#Which of the following is valid python operator precedence oder?\n",
    "#Parenthesis ()\n",
    "#Exponents **\n",
    "#Unary Positive, Negative and Not\n",
    "#Addition and Subtraction\n",
    "#Multiplication and Division\n",
    "#And"
   ]
  },
  {
   "cell_type": "code",
   "execution_count": 23,
   "id": "14aaaf1a",
   "metadata": {},
   "outputs": [
    {
     "name": "stdout",
     "output_type": "stream",
     "text": [
      "Enter a number for the expression:(a)**-2\n"
     ]
    }
   ],
   "source": [
    "# The expression is described as b is equals a multiplied by negative one, the raised to the second power, where a is the value \n",
    "# which will be input and b is result\n",
    "a=eval(input('Enter a number for the expression:'))\n",
    "# Which of the following is valid expression for the given requirement?\n",
    "b=(-a)**2 # correct\n",
    "# wrong\n",
    "b=(a)**-2\n",
    "b=(a-)**2\n",
    "b=-(a)**2"
   ]
  },
  {
   "cell_type": "code",
   "execution_count": 25,
   "id": "dbc991c9",
   "metadata": {},
   "outputs": [
    {
     "name": "stdout",
     "output_type": "stream",
     "text": [
      "7\n"
     ]
    }
   ],
   "source": [
    "# 37 Consider the following expression\n",
    "result=8//6%5+2**3-2 #7\n",
    "print(result)\n",
    "#What is the result?"
   ]
  },
  {
   "cell_type": "code",
   "execution_count": 27,
   "id": "3beec52d",
   "metadata": {},
   "outputs": [
    {
     "name": "stdout",
     "output_type": "stream",
     "text": [
      "11\n"
     ]
    }
   ],
   "source": [
    "# 38 You have the following code:\n",
    "a=3\n",
    "b=5\n",
    "a+=2**3\n",
    "a-=b//2//3\n",
    "print(a) # 11\n",
    "# What is the result?"
   ]
  },
  {
   "cell_type": "code",
   "execution_count": 28,
   "id": "64e061b6",
   "metadata": {},
   "outputs": [],
   "source": [
    "#39 Consider the following variable declarations:\n",
    "a= bool([])\n",
    "b= bool(())\n",
    "c= bool(range(0))\n",
    "d= bool ({})\n",
    "e= bool (set())\n",
    "# Which of the above variable represent True?\n",
    "# For Empty String, Empty List, Empty tuple, Empty set, Empty dict and range(0) argument bool() function returns False"
   ]
  },
  {
   "cell_type": "code",
   "execution_count": 29,
   "id": "8ab63bac",
   "metadata": {},
   "outputs": [
    {
     "data": {
      "text/plain": [
       "False"
      ]
     },
     "execution_count": 29,
     "metadata": {},
     "output_type": "execute_result"
    }
   ],
   "source": [
    "a"
   ]
  },
  {
   "cell_type": "code",
   "execution_count": 30,
   "id": "cf2a6b16",
   "metadata": {},
   "outputs": [
    {
     "data": {
      "text/plain": [
       "False"
      ]
     },
     "execution_count": 30,
     "metadata": {},
     "output_type": "execute_result"
    }
   ],
   "source": [
    "b"
   ]
  },
  {
   "cell_type": "code",
   "execution_count": 31,
   "id": "0acefc0c",
   "metadata": {},
   "outputs": [
    {
     "data": {
      "text/plain": [
       "False"
      ]
     },
     "execution_count": 31,
     "metadata": {},
     "output_type": "execute_result"
    }
   ],
   "source": [
    "c"
   ]
  },
  {
   "cell_type": "code",
   "execution_count": 32,
   "id": "861db927",
   "metadata": {},
   "outputs": [
    {
     "data": {
      "text/plain": [
       "False"
      ]
     },
     "execution_count": 32,
     "metadata": {},
     "output_type": "execute_result"
    }
   ],
   "source": [
    "d"
   ]
  },
  {
   "cell_type": "code",
   "execution_count": 33,
   "id": "fb1bd1d5",
   "metadata": {},
   "outputs": [
    {
     "data": {
      "text/plain": [
       "False"
      ]
     },
     "execution_count": 33,
     "metadata": {},
     "output_type": "execute_result"
    }
   ],
   "source": [
    "e"
   ]
  },
  {
   "cell_type": "markdown",
   "id": "b0f30fe8",
   "metadata": {},
   "source": [
    "### the following question is not clear"
   ]
  },
  {
   "cell_type": "code",
   "execution_count": 58,
   "id": "3988a8a7",
   "metadata": {},
   "outputs": [],
   "source": [
    "# Consider the python code\n",
    "numbers= [10,20,30,40]\n",
    "x=0\n",
    "# In which of the following cases 10 will be printed to the console?"
   ]
  },
  {
   "cell_type": "code",
   "execution_count": 59,
   "id": "c01e9064",
   "metadata": {},
   "outputs": [
    {
     "name": "stdout",
     "output_type": "stream",
     "text": [
      "20\n"
     ]
    }
   ],
   "source": [
    "for i in (30,40,50):\n",
    "    if i in numbers:\n",
    "        x=x+10\n",
    "print(x)"
   ]
  },
  {
   "cell_type": "code",
   "execution_count": 60,
   "id": "9e126cd0",
   "metadata": {},
   "outputs": [
    {
     "name": "stdout",
     "output_type": "stream",
     "text": [
      "25\n"
     ]
    }
   ],
   "source": [
    "for i in (30,40,50):\n",
    "    if i not in numbers:\n",
    "        x=x+5\n",
    "print(x)"
   ]
  },
  {
   "cell_type": "code",
   "execution_count": 56,
   "id": "0c257e04",
   "metadata": {},
   "outputs": [
    {
     "name": "stdout",
     "output_type": "stream",
     "text": [
      "165\n"
     ]
    }
   ],
   "source": [
    "for i in (30,40,50):\n",
    "    if i in numbers:\n",
    "        x=x+5\n",
    "print(x)"
   ]
  },
  {
   "cell_type": "code",
   "execution_count": 52,
   "id": "019c45fb",
   "metadata": {},
   "outputs": [
    {
     "name": "stdout",
     "output_type": "stream",
     "text": [
      "125\n"
     ]
    }
   ],
   "source": [
    "for i in (30,40,50):\n",
    "    if i not in numbers:\n",
    "            x=x+10\n",
    "print(x)"
   ]
  },
  {
   "cell_type": "code",
   "execution_count": 62,
   "id": "005205f9",
   "metadata": {},
   "outputs": [
    {
     "name": "stdout",
     "output_type": "stream",
     "text": [
      "False\n",
      "True\n",
      "True\n",
      "True\n"
     ]
    }
   ],
   "source": [
    "# Consider the following lists:\n",
    "n1=[10,20,30,40,50]\n",
    "n2=[10,20,30,40,50]\n",
    "print(n1 is n2)\n",
    "print(n1==n2)\n",
    "n1=n2\n",
    "print(n1 is n2)\n",
    "print (n1 == n2)"
   ]
  },
  {
   "cell_type": "code",
   "execution_count": null,
   "id": "654afa52",
   "metadata": {},
   "outputs": [],
   "source": []
  },
  {
   "cell_type": "code",
   "execution_count": null,
   "id": "1b070ed5",
   "metadata": {},
   "outputs": [],
   "source": []
  }
 ],
 "metadata": {
  "kernelspec": {
   "display_name": "Python 3 (ipykernel)",
   "language": "python",
   "name": "python3"
  },
  "language_info": {
   "codemirror_mode": {
    "name": "ipython",
    "version": 3
   },
   "file_extension": ".py",
   "mimetype": "text/x-python",
   "name": "python",
   "nbconvert_exporter": "python",
   "pygments_lexer": "ipython3",
   "version": "3.9.7"
  }
 },
 "nbformat": 4,
 "nbformat_minor": 5
}
